{
  "nbformat": 4,
  "nbformat_minor": 0,
  "metadata": {
    "colab": {
      "name": "summer.ipynb",
      "provenance": []
    },
    "kernelspec": {
      "name": "python3",
      "display_name": "Python 3"
    },
    "language_info": {
      "name": "python"
    }
  },
  "cells": [
    {
      "cell_type": "markdown",
      "metadata": {
        "id": "SHsPaPHw4H0F"
      },
      "source": [
        "## **Summer Olympics Data Analysis Assignment** "
      ]
    },
    {
      "cell_type": "markdown",
      "metadata": {
        "id": "lLenV8Vu5OjH"
      },
      "source": [
        "## **1. In how many cities Summer Olympics is held so far?**"
      ]
    },
    {
      "cell_type": "code",
      "metadata": {
        "id": "RvA3wPIM5d-o"
      },
      "source": [
        "import pandas as pd"
      ],
      "execution_count": 58,
      "outputs": []
    },
    {
      "cell_type": "code",
      "metadata": {
        "id": "cgW-i96uBaw_"
      },
      "source": [
        "df = pd.read_csv(\"summer.csv\")"
      ],
      "execution_count": 59,
      "outputs": []
    },
    {
      "cell_type": "code",
      "metadata": {
        "colab": {
          "base_uri": "https://localhost:8080/"
        },
        "id": "JOsvUXeS52NC",
        "outputId": "7d3519cf-a220-46fb-f83f-3c88cacf0809"
      },
      "source": [
        "print(\"Number of cities:\", len(df['City'].unique()))"
      ],
      "execution_count": 81,
      "outputs": [
        {
          "output_type": "stream",
          "name": "stdout",
          "text": [
            "Number of cities: 22\n"
          ]
        }
      ]
    },
    {
      "cell_type": "markdown",
      "metadata": {
        "id": "ehO-8gvPB6rV"
      },
      "source": [
        "## **2. Which sport is having most number of Gold Medals so far? (Top 5**)"
      ]
    },
    {
      "cell_type": "code",
      "metadata": {
        "id": "YBx4RV-7-x4d",
        "colab": {
          "base_uri": "https://localhost:8080/",
          "height": 534
        },
        "outputId": "3f2494ae-8de9-4c28-9d4d-70d4cf9cea0e"
      },
      "source": [
        "print(\"Top 5 sport having most number of Gold Medals.\")\n",
        "# fisrt selecting data for Gold medal only and grouping sport by counting medals then sorting in ascending order and then choosing top 5. \n",
        "data= df[df['Medal'] == 'Gold'].groupby('Sport').count()['Medal'].sort_values(ascending= False).head()\n",
        "\n",
        "# ploting a bar graph beteween Number of gold medal vs sport\n",
        "data.plot(kind= 'bar', figsize= (5,5),title= 'Top 5 sports having most number of Gold Medal')\n",
        "\n",
        "# printing table.\n",
        "data"
      ],
      "execution_count": 84,
      "outputs": [
        {
          "output_type": "stream",
          "name": "stdout",
          "text": [
            "Top 5 sport having most number of Gold Medals.\n"
          ]
        },
        {
          "output_type": "execute_result",
          "data": {
            "text/plain": [
              "Sport\n",
              "Aquatics      1421\n",
              "Athletics     1215\n",
              "Rowing         890\n",
              "Gymnastics     820\n",
              "Fencing        552\n",
              "Name: Medal, dtype: int64"
            ]
          },
          "metadata": {},
          "execution_count": 84
        },
        {
          "output_type": "display_data",
          "data": {
            "image/png": "[encoded data removed]",
            "text/plain": [
              "<Figure size 360x360 with 1 Axes>"
            ]
          },
          "metadata": {
            "needs_background": "light"
          }
        }
      ]
    },
    {
      "cell_type": "markdown",
      "metadata": {
        "id": "B7XNyb2TQwbm"
      },
      "source": [
        "### **3. Which sport is having most number of medals so far? (Top 5)**"
      ]
    },
    {
      "cell_type": "code",
      "metadata": {
        "colab": {
          "base_uri": "https://localhost:8080/",
          "height": 534
        },
        "id": "DJN2ROhUREdv",
        "outputId": "d23f6585-a4c1-417e-bb65-0d20c988fe5b"
      },
      "source": [
        "print(\"Top 5 sport having most number of Medals.\")\n",
        "# grouping sport by counting medals then sorting in ascending order and then choosing top 5. \n",
        "data= df.groupby('Sport').count()['Medal'].sort_values(ascending= False).head()\n",
        "\n",
        "# ploting a bar graph beteween Number of medal vs sport\n",
        "data.plot(kind= 'bar', figsize= (5,5),title= 'Top 5 sport having most number of Medal')\n",
        "\n",
        "# printing table.\n",
        "data"
      ],
      "execution_count": 78,
      "outputs": [
        {
          "output_type": "stream",
          "name": "stdout",
          "text": [
            "Top 5 sport having most number of Medals.\n"
          ]
        },
        {
          "output_type": "execute_result",
          "data": {
            "text/plain": [
              "Sport\n",
              "Aquatics      4170\n",
              "Athletics     3638\n",
              "Rowing        2667\n",
              "Gymnastics    2307\n",
              "Fencing       1613\n",
              "Name: Medal, dtype: int64"
            ]
          },
          "metadata": {},
          "execution_count": 78
        },
        {
          "output_type": "display_data",
          "data": {
            "image/png": "[encoded data removed]",
            "text/plain": [
              "<Figure size 360x360 with 1 Axes>"
            ]
          },
          "metadata": {
            "needs_background": "light"
          }
        }
      ]
    },
    {
      "cell_type": "markdown",
      "metadata": {
        "id": "xZNiFkLnUmz5"
      },
      "source": [
        "### **4. Which player has won most number of medals? (Top 5)**"
      ]
    },
    {
      "cell_type": "code",
      "metadata": {
        "colab": {
          "base_uri": "https://localhost:8080/",
          "height": 593
        },
        "id": "p0lBGoQRUd1h",
        "outputId": "77eafe31-21f5-4d02-fb27-6d203e927087"
      },
      "source": [
        "print(\"Top 5 players having most number of Medals.\")\n",
        "# grouping Athlete by counting medals then sorting in ascending order and then choosing top 5. \n",
        "data= df.groupby('Athlete').count()['Medal'].sort_values(ascending= False).head()\n",
        "\n",
        "# ploting a bar graph beteween Number of medal vs player\n",
        "data.plot(kind= 'bar', figsize= (5,5),title= 'Top 5 playrs having most number of Medal')\n",
        "\n",
        "# printing table.\n",
        "data\n"
      ],
      "execution_count": 79,
      "outputs": [
        {
          "output_type": "stream",
          "name": "stdout",
          "text": [
            "Top 5 players having most number of Medals.\n"
          ]
        },
        {
          "output_type": "execute_result",
          "data": {
            "text/plain": [
              "Athlete\n",
              "PHELPS, Michael         22\n",
              "LATYNINA, Larisa        18\n",
              "ANDRIANOV, Nikolay      15\n",
              "MANGIAROTTI, Edoardo    13\n",
              "SHAKHLIN, Boris         13\n",
              "Name: Medal, dtype: int64"
            ]
          },
          "metadata": {},
          "execution_count": 79
        },
        {
          "output_type": "display_data",
          "data": {
            "image/png": "[encoded data removed]",
            "text/plain": [
              "<Figure size 360x360 with 1 Axes>"
            ]
          },
          "metadata": {
            "needs_background": "light"
          }
        }
      ]
    },
    {
      "cell_type": "markdown",
      "metadata": {
        "id": "_tKWY_aNWifX"
      },
      "source": [
        "### **5. Which player has won most number Gold Medals of medals? (Top 5)**"
      ]
    },
    {
      "cell_type": "code",
      "metadata": {
        "id": "0d_Raf4yWKoA",
        "colab": {
          "base_uri": "https://localhost:8080/",
          "height": 561
        },
        "outputId": "20e5ef03-adf2-4a0f-e14a-c4b9ee1884cb"
      },
      "source": [
        "print(\"Top 5 players having most number of Gold Medals.\")\n",
        "# fisrt selecting data for Gold medal only and grouping Athlete by counting gold medals then sorting in ascending order and then choosing top 5. \n",
        "data= df[df['Medal'] == 'Gold'].groupby('Athlete').count()['Medal'].sort_values(ascending= False).head()\n",
        "\n",
        "# ploting a bar graph beteween Number of gold medal vs player\n",
        "data.plot(kind= 'bar', figsize= (5,5),title= 'Top 5 player having number of Gold Medal')\n",
        "\n",
        "# printing table.\n",
        "data"
      ],
      "execution_count": 75,
      "outputs": [
        {
          "output_type": "stream",
          "name": "stdout",
          "text": [
            "Top 5 players having most number of Gold Medals.\n"
          ]
        },
        {
          "output_type": "execute_result",
          "data": {
            "text/plain": [
              "Athlete\n",
              "PHELPS, Michael     18\n",
              "NURMI, Paavo         9\n",
              "SPITZ, Mark          9\n",
              "LEWIS, Carl          9\n",
              "LATYNINA, Larisa     9\n",
              "Name: Medal, dtype: int64"
            ]
          },
          "metadata": {},
          "execution_count": 75
        },
        {
          "output_type": "display_data",
          "data": {
            "image/png": "[encoded data removed]",
            "text/plain": [
              "<Figure size 360x360 with 1 Axes>"
            ]
          },
          "metadata": {
            "needs_background": "light"
          }
        }
      ]
    },
    {
      "cell_type": "markdown",
      "metadata": {
        "id": "998cuN0AYC6-"
      },
      "source": [
        "### **6. In which year India won first Gold Medal in Summer Olympics?**"
      ]
    },
    {
      "cell_type": "code",
      "metadata": {
        "colab": {
          "base_uri": "https://localhost:8080/"
        },
        "id": "9OVu8GcFYTmd",
        "outputId": "cccd2f04-0d25-4a56-ecaf-17816c41695d"
      },
      "source": [
        "# selecting for data only for India.\n",
        "df1 = df[df['Country'] == 'IND']\n",
        "\n",
        "# selecting data only for gold medal\n",
        "df2 =  df1[df1['Medal'] == 'Gold']\n",
        "\n",
        "print(f\"India won the fisrt gold medal in the year {df2['Year'].values[0]}.\")"
      ],
      "execution_count": 68,
      "outputs": [
        {
          "output_type": "stream",
          "name": "stdout",
          "text": [
            "India won the fisrt gold medal in the year 1928.\n"
          ]
        }
      ]
    },
    {
      "cell_type": "markdown",
      "metadata": {
        "id": "mgWA8y6Acdct"
      },
      "source": [
        "### **7. Which event is most popular in terms on number of players? (Top 5)**"
      ]
    },
    {
      "cell_type": "code",
      "metadata": {
        "id": "EXz9xGcaZfgf",
        "colab": {
          "base_uri": "https://localhost:8080/",
          "height": 566
        },
        "outputId": "2bd26638-d789-4b55-bad9-f89881442dba"
      },
      "source": [
        "print(\"Top 5 most popular event in terms of number of player. \")\n",
        "# grouping Athlete by counting medals then sorting in ascending order and then choosing top 5. \n",
        "data= df.groupby('Event').count()['Athlete'].sort_values(ascending= False).head()\n",
        "\n",
        "# ploting a bar graph beteween number of player vs event.\n",
        "data.plot(kind= 'bar', figsize= (5,5),title= 'Top 5 Event in terms of number of player')\n",
        "\n",
        "# printing table.\n",
        "data\n"
      ],
      "execution_count": 85,
      "outputs": [
        {
          "output_type": "stream",
          "name": "stdout",
          "text": [
            "Top 5 most popular event in terms of number of player. \n"
          ]
        },
        {
          "output_type": "execute_result",
          "data": {
            "text/plain": [
              "Event\n",
              "Football            1497\n",
              "Hockey              1422\n",
              "Team Competition    1147\n",
              "Basketball          1012\n",
              "Handball             973\n",
              "Name: Athlete, dtype: int64"
            ]
          },
          "metadata": {},
          "execution_count": 85
        },
        {
          "output_type": "display_data",
          "data": {
            "image/png": "[encoded data removed]",
            "text/plain": [
              "<Figure size 360x360 with 1 Axes>"
            ]
          },
          "metadata": {
            "needs_background": "light"
          }
        }
      ]
    },
    {
      "cell_type": "markdown",
      "metadata": {
        "id": "jYyFzBnog_y-"
      },
      "source": [
        "### **8. Which sport is having most female Gold Medalists? (Top 5)**"
      ]
    },
    {
      "cell_type": "code",
      "metadata": {
        "id": "C9bD90MAgzDR",
        "colab": {
          "base_uri": "https://localhost:8080/",
          "height": 534
        },
        "outputId": "9ef387ae-0e91-4a3d-fdf5-042af7e6fcb2"
      },
      "source": [
        "# selsecting data for only Gold medal.\n",
        "df1 = df[df['Medal'] == 'Gold']\n",
        "\n",
        "# selcting data for female\n",
        "df2 = df1[df1['Gender'] == 'Women']\n",
        "\n",
        "# grouping sport by counting medals then sorting in ascending order and then choosing top 5. \n",
        "data= df2.groupby('Sport').count()['Medal'].sort_values(ascending= False).head()\n",
        "\n",
        "# ploting a bar graph beteween Number of female gold medalist vs sport.\n",
        "data.plot(kind= 'bar', figsize= (5,5),title= 'Top 5 sport most number of having female gold medalist')\n",
        "\n",
        "print(\"Top 5 sport having female gold medalist.\")\n",
        "# printing table.\n",
        "data"
      ],
      "execution_count": 82,
      "outputs": [
        {
          "output_type": "stream",
          "name": "stdout",
          "text": [
            "Top 5 sport having female gold medalist.\n"
          ]
        },
        {
          "output_type": "execute_result",
          "data": {
            "text/plain": [
              "Sport\n",
              "Aquatics      589\n",
              "Athletics     389\n",
              "Gymnastics    268\n",
              "Rowing        217\n",
              "Volleyball    166\n",
              "Name: Medal, dtype: int64"
            ]
          },
          "metadata": {},
          "execution_count": 82
        },
        {
          "output_type": "display_data",
          "data": {
            "image/png": "[encoded data removed]",
            "text/plain": [
              "<Figure size 360x360 with 1 Axes>"
            ]
          },
          "metadata": {
            "needs_background": "light"
          }
        }
      ]
    },
    {
      "cell_type": "code",
      "metadata": {
        "id": "PnUKyENgts9G"
      },
      "source": [
        ""
      ],
      "execution_count": null,
      "outputs": []
    }
  ]
}